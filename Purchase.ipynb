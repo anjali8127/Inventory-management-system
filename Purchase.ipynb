{
  "nbformat": 4,
  "nbformat_minor": 0,
  "metadata": {
    "colab": {
      "name": "Purchase.ipynb",
      "provenance": []
    },
    "kernelspec": {
      "name": "python3",
      "display_name": "Python 3"
    },
    "language_info": {
      "name": "python"
    }
  },
  "cells": [
    {
      "cell_type": "code",
      "metadata": {
        "id": "DhQJHuh-S8Py"
      },
      "source": [
        "import json\n",
        "\n",
        "fd = open(\"record.json\",'r')\n",
        "r = fd.read()\n",
        "fd.close()\n",
        "\n",
        "records = json.loads(r)"
      ],
      "execution_count": 80,
      "outputs": []
    },
    {
      "cell_type": "code",
      "metadata": {
        "colab": {
          "base_uri": "https://localhost:8080/"
        },
        "id": "pHlJeMM9d1xA",
        "outputId": "2d1f35fe-ef47-48ee-8436-965d4b90a392"
      },
      "source": [
        "records"
      ],
      "execution_count": 81,
      "outputs": [
        {
          "output_type": "execute_result",
          "data": {
            "text/plain": [
              "{'1001': {'name': 'Choco Cake', 'pr': 100, 'qn': 106},\n",
              " '1002': {'name': 'Milk Cake', 'pr': 800, 'qn': 101},\n",
              " '1003': {'name': 'Drink', 'pr': 85, 'qn': 100},\n",
              " '1004': {'name': 'Candy', 'pr': 5, 'qn': 1000},\n",
              " '1005': {'name': 'Pen', 'pr': 20, 'qn': 100},\n",
              " '1006': {'name': 'Phone', 'pr': 50000, 'qn': 10},\n",
              " '1007': {'name': 'Mic', 'pr': 1500, 'qn': 0},\n",
              " '1008': {'name': 'Case', 'pr': 599, 'qn': 5},\n",
              " '1009': {'name': 'Keyboard', 'pr': 1999, 'qn': 10},\n",
              " '1010': {'name': 'Book', 'pr': 50, 'qn': 80},\n",
              " '1011': {'name': 'Pen', 'pr': 20, 'qn': 100},\n",
              " '1012': {'name': 'Shampoo', 'pr': 70, 'qn': 20},\n",
              " '1013': {'name': 'Brush', 'pr': 50, 'qn': 40},\n",
              " '1014': {'name': 'Pins', 'pr': 10, 'qn': 100},\n",
              " '1015': {'name': 'Mouse', 'pr': 500, 'qn': 20},\n",
              " '1016': {'name': 'Bangles', 'pr': 70, 'qn': 50},\n",
              " '1017': {'name': 'Computer', 'pr': 70000, 'qn': 5},\n",
              " '1018': {'name': 'wire', 'pr': 150, 'qn': 15},\n",
              " '1019': {'name': 'Mask', 'pr': 40, 'qn': 200},\n",
              " '1020': {'name': 'camera', 'pr': 50000, 'qn': 10},\n",
              " '1021': {'name': 'charger', 'pr': 500, 'qn': 50},\n",
              " '1022': {'name': 'Soap', 'pr': 40, 'qn': 50},\n",
              " '1023': {'name': 'Box', 'pr': 20, 'qn': 800},\n",
              " '1024': {'name': 'Spray', 'pr': 90, 'qn': 10},\n",
              " '1025': {'name': 'Sanitizer', 'pr': 50, 'qn': 20},\n",
              " '1026': {'name': 'Table', 'pr': 8000, 'qn': 12},\n",
              " '1027': {'name': 'Tin', 'pr': 80, 'qn': 20},\n",
              " '1028': {'name': 'cap', 'pr': 200, 'qn': 30},\n",
              " '1029': {'name': 'Bands', 'pr': 20, 'qn': 40},\n",
              " '1030': {'name': 'Oil', 'pr': 400, 'qn': 80}}"
            ]
          },
          "metadata": {},
          "execution_count": 81
        }
      ]
    },
    {
      "cell_type": "code",
      "metadata": {
        "colab": {
          "base_uri": "https://localhost:8080/"
        },
        "id": "mF7G6G33TRKx",
        "outputId": "615e08f5-e8f8-4984-8af1-0fafcc7e5e75"
      },
      "source": [
        "ui_prod  = str(input(\"Enter the product_Id: \"))\n",
        "ui_quant = int(input(\"Enter the quantity: \"))\n",
        "prod_id=ui_prod\n",
        "if ui_quant<=int(records[prod_id]['qn']):\n",
        "  print(\"******************************************\")\n",
        "  print(\"Product: \", records[ui_prod]['name'])\n",
        "  print(\"Price: \", records[ui_prod]['pr'])\n",
        "  print(\"------------------------------------------\")\n",
        "  print(\"Billing Amount: \", records[ui_prod]['pr'] * ui_quant)\n",
        "  print(\"******************************************\")\n",
        "\n",
        "  records[ui_prod]['qn'] = records[ui_prod]['qn'] - ui_quant\n",
        "else:\n",
        "  print(\"!!!INSUFFICIENT QUANTITY OF PRODUCT\")\n",
        "  print(\"Available quantity of product is : \")\n",
        "  print(records[prod_id]['qn'])"
      ],
      "execution_count": 149,
      "outputs": [
        {
          "output_type": "stream",
          "name": "stdout",
          "text": [
            "Enter the product_Id: 1025\n",
            "Enter the quantity: 500\n",
            "!!!INSUFFICIENT QUANTITY OF PRODUCT\n",
            "Available quantity of product is : \n",
            "20\n"
          ]
        }
      ]
    },
    {
      "cell_type": "code",
      "metadata": {
        "id": "3SC-CxJfTRS5"
      },
      "source": [
        "js = json.dumps(records)\n",
        "\n",
        "fd = open(\"record.json\",'w')\n",
        "fd.write(js)\n",
        "fd.close()"
      ],
      "execution_count": 150,
      "outputs": []
    },
    {
      "cell_type": "markdown",
      "metadata": {
        "id": "WWMsU37PjedN"
      },
      "source": [
        "Sales JSON"
      ]
    },
    {
      "cell_type": "code",
      "metadata": {
        "id": "oRNho3NkTRY5"
      },
      "source": [
        "sales[(len(sales)+1)]={ 'prod':ui_prod, 'qn':ui_quant, 'amount': records[ui_prod]['pr']*ui_quant}"
      ],
      "execution_count": 151,
      "outputs": []
    },
    {
      "cell_type": "code",
      "metadata": {
        "id": "vzKEJdKRnibV"
      },
      "source": [
        "\n",
        "sale=json.dumps(sales)"
      ],
      "execution_count": 152,
      "outputs": []
    },
    {
      "cell_type": "code",
      "metadata": {
        "id": "lZP-tG_7TRbo"
      },
      "source": [
        "fd = open(\"sales.json\",'w')\n",
        "r=fd.write(sale)\n",
        "fd.close()"
      ],
      "execution_count": 153,
      "outputs": []
    },
    {
      "cell_type": "code",
      "metadata": {
        "colab": {
          "base_uri": "https://localhost:8080/"
        },
        "id": "o82dHTZjTReX",
        "outputId": "3566f9b8-03ac-43ce-be96-af0c02a902d9"
      },
      "source": [
        "sales"
      ],
      "execution_count": 156,
      "outputs": [
        {
          "output_type": "execute_result",
          "data": {
            "text/plain": [
              "{1: {'amount': 800, 'prod': '1030', 'qn': 2},\n",
              " 2: {'amount': 450, 'prod': '1024', 'qn': 5},\n",
              " 3: {'amount': 5500, 'prod': '1021', 'qn': 11},\n",
              " 4: {'amount': 220, 'prod': '1011', 'qn': 11},\n",
              " 5: {'amount': 1000, 'prod': '1001', 'qn': 10},\n",
              " 6: {'amount': 40, 'prod': '1005', 'qn': 2},\n",
              " 7: {'amount': 5997, 'prod': '1009', 'qn': 3},\n",
              " 8: {'amount': 250, 'prod': '1013', 'qn': 5},\n",
              " 9: {'amount': 630, 'prod': '1016', 'qn': 9},\n",
              " 10: {'amount': 80, 'prod': '1019', 'qn': 2},\n",
              " 11: {'amount': 100, 'prod': '1023', 'qn': 5}}"
            ]
          },
          "metadata": {},
          "execution_count": 156
        }
      ]
    },
    {
      "cell_type": "code",
      "metadata": {
        "id": "QTuvNZ4TTRgy"
      },
      "source": [
        "\n"
      ],
      "execution_count": 155,
      "outputs": []
    },
    {
      "cell_type": "code",
      "metadata": {
        "id": "txMBYyiIqVWG"
      },
      "source": [
        ""
      ],
      "execution_count": 73,
      "outputs": []
    },
    {
      "cell_type": "code",
      "metadata": {
        "id": "lXwC4cLkqW1r"
      },
      "source": [
        ""
      ],
      "execution_count": 74,
      "outputs": []
    },
    {
      "cell_type": "code",
      "metadata": {
        "id": "Y3LaJlIfqsuU"
      },
      "source": [
        ""
      ],
      "execution_count": 75,
      "outputs": []
    },
    {
      "cell_type": "code",
      "metadata": {
        "id": "iFLU3DjZqu58"
      },
      "source": [
        ""
      ],
      "execution_count": 76,
      "outputs": []
    },
    {
      "cell_type": "code",
      "metadata": {
        "id": "Ru3C3Lriqwi9"
      },
      "source": [
        ""
      ],
      "execution_count": 77,
      "outputs": []
    },
    {
      "cell_type": "code",
      "metadata": {
        "id": "OwXfS36lqzl0"
      },
      "source": [
        ""
      ],
      "execution_count": 78,
      "outputs": []
    },
    {
      "cell_type": "code",
      "metadata": {
        "id": "rK5ibAa5q1ik"
      },
      "source": [
        ""
      ],
      "execution_count": null,
      "outputs": []
    }
  ]
}