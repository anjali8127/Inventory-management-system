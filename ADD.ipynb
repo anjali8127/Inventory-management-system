{
  "nbformat": 4,
  "nbformat_minor": 0,
  "metadata": {
    "colab": {
      "name": "ADD.ipynb",
      "provenance": []
    },
    "kernelspec": {
      "name": "python3",
      "display_name": "Python 3"
    },
    "language_info": {
      "name": "python"
    }
  },
  "cells": [
    {
      "cell_type": "code",
      "metadata": {
        "id": "0usK0B9-XXtE"
      },
      "source": [
        "import json"
      ],
      "execution_count": 35,
      "outputs": []
    },
    {
      "cell_type": "code",
      "metadata": {
        "id": "QlR7usg4SpE-"
      },
      "source": [
        "fd = open(\"record.json\",'r')\n",
        "r = fd.read()\n",
        "fd.close()\n",
        "\n",
        "record = json.loads(r)"
      ],
      "execution_count": 36,
      "outputs": []
    },
    {
      "cell_type": "code",
      "metadata": {
        "colab": {
          "base_uri": "https://localhost:8080/"
        },
        "id": "_7V7B5hsSpxn",
        "outputId": "402a984b-339d-4b1e-b15f-f23cf30af638"
      },
      "source": [
        "n=int(input(\"Enter thr number of products you want to add: \"))\n",
        "\n",
        "for i in range(n):\n",
        "  prod_id = str(input(\"Enter product id:\"))\n",
        "  name = str(input(\"Enter name:\"))\n",
        "  pr = int(input(\"Enter price:\"))\n",
        "  qn = int(input(\"Enter quantity:\"))\n",
        "\n",
        "  record[prod_id] = {'name': name, 'pr': pr, 'qn': qn}\n",
        "\n"
      ],
      "execution_count": 37,
      "outputs": [
        {
          "name": "stdout",
          "output_type": "stream",
          "text": [
            "Enter thr number of products you want to add: 20\n",
            "Enter product id:1012\n",
            "Enter name:Shampoo\n",
            "Enter price:70\n",
            "Enter quantity:20\n",
            "Enter product id:1013\n",
            "Enter name:Brush\n",
            "Enter price:50\n",
            "Enter quantity:40\n",
            "Enter product id:1014\n",
            "Enter name:Pins\n",
            "Enter price:10\n",
            "Enter quantity:100\n",
            "Enter product id:1015\n",
            "Enter name:Mouse\n",
            "Enter price:500\n",
            "Enter quantity:20\n",
            "Enter product id:1016\n",
            "Enter name:Calculator\n",
            "Enter price:600\n",
            "Enter quantity:60\n",
            "Enter product id:1016\n",
            "Enter name:Bangles\n",
            "Enter price:70\n",
            "Enter quantity:50\n",
            "Enter product id:1017\n",
            "Enter name:Computer\n",
            "Enter price:70000\n",
            "Enter quantity:5\n",
            "Enter product id:1018\n",
            "Enter name:wire\n",
            "Enter price:150\n",
            "Enter quantity:15\n",
            "Enter product id:1019\n",
            "Enter name:Mask\n",
            "Enter price:40\n",
            "Enter quantity:200\n",
            "Enter product id:1020\n",
            "Enter name:camera\n",
            "Enter price:50000\n",
            "Enter quantity:10\n",
            "Enter product id:1021\n",
            "Enter name:charger\n",
            "Enter price:500\n",
            "Enter quantity:50\n",
            "Enter product id:1022\n",
            "Enter name:Soap\n",
            "Enter price:40\n",
            "Enter quantity:50\n",
            "Enter product id:1023\n",
            "Enter name:Box\n",
            "Enter price:20\n",
            "Enter quantity:800\n",
            "Enter product id:1024\n",
            "Enter name:Spray\n",
            "Enter price:90\n",
            "Enter quantity:10\n",
            "Enter product id:1025\n",
            "Enter name:Sanitizer\n",
            "Enter price:50\n",
            "Enter quantity:10\n",
            "Enter product id:1026\n",
            "Enter name:Table\n",
            "Enter price:8000\n",
            "Enter quantity:12\n",
            "Enter product id:1027\n",
            "Enter name:Tin\n",
            "Enter price:80\n",
            "Enter quantity:20\n",
            "Enter product id:1028\n",
            "Enter name:cap\n",
            "Enter price:200\n",
            "Enter quantity:30\n",
            "Enter product id:1029\n",
            "Enter name:Bands\n",
            "Enter price:20\n",
            "Enter quantity:40\n",
            "Enter product id:1030\n",
            "Enter name:Oil\n",
            "Enter price:400\n",
            "Enter quantity:80\n"
          ]
        }
      ]
    },
    {
      "cell_type": "markdown",
      "metadata": {
        "id": "YTKi_lMoZERF"
      },
      "source": [
        "Update quantity"
      ]
    },
    {
      "cell_type": "code",
      "metadata": {
        "colab": {
          "base_uri": "https://localhost:8080/"
        },
        "id": "M5LuJ3hOSp0U",
        "outputId": "b1f64b81-e4f4-4cf2-ecfd-c5d47808e64c"
      },
      "source": [
        "prod_id=input(\"Enter product id to add products: \")\n",
        "n=int(input(\"Enter quantity to be added: \"))\n",
        "record[prod_id]['qn']=int(record[prod_id]['qn'])+n\n",
        "\n"
      ],
      "execution_count": 38,
      "outputs": [
        {
          "name": "stdout",
          "output_type": "stream",
          "text": [
            "Enter product id to add products: 1025\n",
            "Enter quantity to be added: 10\n"
          ]
        }
      ]
    },
    {
      "cell_type": "code",
      "metadata": {
        "id": "JcIkTD3-eGEQ"
      },
      "source": [
        "js = json.dumps(record)\n",
        "\n",
        "fd = open(\"record.json\",'w')\n",
        "fd.write(js)\n",
        "fd.close()"
      ],
      "execution_count": 39,
      "outputs": []
    },
    {
      "cell_type": "code",
      "metadata": {
        "colab": {
          "base_uri": "https://localhost:8080/"
        },
        "id": "1eKaudnTXTIs",
        "outputId": "d16161cd-0d78-4799-9775-39184ff3158c"
      },
      "source": [
        "record"
      ],
      "execution_count": 40,
      "outputs": [
        {
          "output_type": "execute_result",
          "data": {
            "text/plain": [
              "{'1001': {'name': 'Choco Cake', 'pr': 100, 'qn': 106},\n",
              " '1002': {'name': 'Milk Cake', 'pr': 800, 'qn': 101},\n",
              " '1003': {'name': 'Drink', 'pr': 85, 'qn': 100},\n",
              " '1004': {'name': 'Candy', 'pr': 5, 'qn': 1000},\n",
              " '1005': {'name': 'Pen', 'pr': 20, 'qn': 100},\n",
              " '1006': {'name': 'Phone', 'pr': 50000, 'qn': 10},\n",
              " '1007': {'name': 'Mic', 'pr': 1500, 'qn': 0},\n",
              " '1008': {'name': 'Case', 'pr': 599, 'qn': 5},\n",
              " '1009': {'name': 'Keyboard', 'pr': 1999, 'qn': 10},\n",
              " '1010': {'name': 'Book', 'pr': 50, 'qn': 80},\n",
              " '1011': {'name': 'Pen', 'pr': 20, 'qn': 100},\n",
              " '1012': {'name': 'Shampoo', 'pr': 70, 'qn': 20},\n",
              " '1013': {'name': 'Brush', 'pr': 50, 'qn': 40},\n",
              " '1014': {'name': 'Pins', 'pr': 10, 'qn': 100},\n",
              " '1015': {'name': 'Mouse', 'pr': 500, 'qn': 20},\n",
              " '1016': {'name': 'Bangles', 'pr': 70, 'qn': 50},\n",
              " '1017': {'name': 'Computer', 'pr': 70000, 'qn': 5},\n",
              " '1018': {'name': 'wire', 'pr': 150, 'qn': 15},\n",
              " '1019': {'name': 'Mask', 'pr': 40, 'qn': 200},\n",
              " '1020': {'name': 'camera', 'pr': 50000, 'qn': 10},\n",
              " '1021': {'name': 'charger', 'pr': 500, 'qn': 50},\n",
              " '1022': {'name': 'Soap', 'pr': 40, 'qn': 50},\n",
              " '1023': {'name': 'Box', 'pr': 20, 'qn': 800},\n",
              " '1024': {'name': 'Spray', 'pr': 90, 'qn': 10},\n",
              " '1025': {'name': 'Sanitizer', 'pr': 50, 'qn': 20},\n",
              " '1026': {'name': 'Table', 'pr': 8000, 'qn': 12},\n",
              " '1027': {'name': 'Tin', 'pr': 80, 'qn': 20},\n",
              " '1028': {'name': 'cap', 'pr': 200, 'qn': 30},\n",
              " '1029': {'name': 'Bands', 'pr': 20, 'qn': 40},\n",
              " '1030': {'name': 'Oil', 'pr': 400, 'qn': 80}}"
            ]
          },
          "metadata": {},
          "execution_count": 40
        }
      ]
    },
    {
      "cell_type": "code",
      "metadata": {
        "id": "vliDA9XsSp3L"
      },
      "source": [
        ""
      ],
      "execution_count": 14,
      "outputs": []
    },
    {
      "cell_type": "code",
      "metadata": {
        "id": "SDfbO8RoSqzQ"
      },
      "source": [
        ""
      ],
      "execution_count": null,
      "outputs": []
    },
    {
      "cell_type": "code",
      "metadata": {
        "id": "xm9wXnMvSq2g"
      },
      "source": [
        ""
      ],
      "execution_count": null,
      "outputs": []
    },
    {
      "cell_type": "code",
      "metadata": {
        "id": "t8wOGcouSTkS"
      },
      "source": [
        ""
      ],
      "execution_count": 9,
      "outputs": []
    },
    {
      "cell_type": "markdown",
      "metadata": {
        "id": "_DvK-FntSiDe"
      },
      "source": [
        ""
      ]
    }
  ]
}